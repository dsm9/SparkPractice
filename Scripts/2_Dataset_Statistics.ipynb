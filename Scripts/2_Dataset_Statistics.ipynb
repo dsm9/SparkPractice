{
 "cells": [
  {
   "cell_type": "markdown",
   "metadata": {},
   "source": [
    "# Massive Data Processing \n",
    "## Spark Practice\n",
    "Studend: David Sánchez Marín\n",
    "### 2.- Practice: Calculate dataset statistics  (2.5%)"
   ]
  },
  {
   "cell_type": "code",
   "execution_count": 1,
   "metadata": {},
   "outputs": [],
   "source": [
    "import pyspark\n",
    "sc = pyspark.SparkContext('local[*]')"
   ]
  },
  {
   "cell_type": "code",
   "execution_count": 2,
   "metadata": {},
   "outputs": [
    {
     "name": "stdout",
     "output_type": "stream",
     "text": [
      "* ../Datasets/ml-100k/u.item MapPartitionsRDD[1] at textFile at NativeMethodAccessorImpl.java:0\n",
      "\n",
      "* PythonRDD[2] at RDD at PythonRDD.scala:48\n",
      "\n",
      "* Movies:  1682\n",
      "\n",
      "* First Movie:  [u'1', u'Toy Story (1995)', u'01-Jan-1995', u'', u'http://us.imdb.com/M/title-exact?Toy%20Story%20(1995)', u'0', u'0', u'0', u'1', u'1', u'1', u'0', u'0', u'0', u'0', u'0', u'0', u'0', u'0', u'0', u'0', u'0', u'0', u'0']\n",
      "\n",
      "* First 5 movies:  [[u'1', u'Toy Story (1995)', u'01-Jan-1995', u'', u'http://us.imdb.com/M/title-exact?Toy%20Story%20(1995)', u'0', u'0', u'0', u'1', u'1', u'1', u'0', u'0', u'0', u'0', u'0', u'0', u'0', u'0', u'0', u'0', u'0', u'0', u'0'], [u'2', u'GoldenEye (1995)', u'01-Jan-1995', u'', u'http://us.imdb.com/M/title-exact?GoldenEye%20(1995)', u'0', u'1', u'1', u'0', u'0', u'0', u'0', u'0', u'0', u'0', u'0', u'0', u'0', u'0', u'0', u'0', u'1', u'0', u'0'], [u'3', u'Four Rooms (1995)', u'01-Jan-1995', u'', u'http://us.imdb.com/M/title-exact?Four%20Rooms%20(1995)', u'0', u'0', u'0', u'0', u'0', u'0', u'0', u'0', u'0', u'0', u'0', u'0', u'0', u'0', u'0', u'0', u'1', u'0', u'0'], [u'4', u'Get Shorty (1995)', u'01-Jan-1995', u'', u'http://us.imdb.com/M/title-exact?Get%20Shorty%20(1995)', u'0', u'1', u'0', u'0', u'0', u'1', u'0', u'0', u'1', u'0', u'0', u'0', u'0', u'0', u'0', u'0', u'0', u'0', u'0'], [u'5', u'Copycat (1995)', u'01-Jan-1995', u'', u'http://us.imdb.com/M/title-exact?Copycat%20(1995)', u'0', u'0', u'0', u'0', u'0', u'0', u'1', u'0', u'1', u'0', u'0', u'0', u'0', u'0', u'0', u'0', u'1', u'0', u'0']]\n"
     ]
    }
   ],
   "source": [
    "### 2.- Practice: Calculate dataset statistics  (2.5%)\n",
    "import os, shutil\n",
    "import unicodedata\n",
    "from operator import add\n",
    "\n",
    "input = sc.textFile(\"../Datasets/ml-100k/u.item\")\n",
    "print \"*\", input\n",
    "print \"\"\n",
    "movie = input.map(lambda line: line.split(\"|\"))\n",
    "print \"*\", movie\n",
    "print \"\"\n",
    "print \"* Movies: \", movie.count()\n",
    "print \"\"\n",
    "print \"* First Movie: \", movie.first()\n",
    "print \"\"\n",
    "print \"* First 5 movies: \", movie.take(5)"
   ]
  },
  {
   "cell_type": "code",
   "execution_count": 3,
   "metadata": {},
   "outputs": [],
   "source": [
    "def convert_year(x):\n",
    "     try:\n",
    "       return int(x[-4:])\n",
    "     except:\n",
    "       return 0 "
   ]
  },
  {
   "cell_type": "code",
   "execution_count": 4,
   "metadata": {},
   "outputs": [
    {
     "name": "stdout",
     "output_type": "stream",
     "text": [
      "1681\n",
      "[u'1', u'Toy Story (1995)', u'01-Jan-1995', u'', u'http://us.imdb.com/M/title-exact?Toy%20Story%20(1995)', u'0', u'0', u'0', u'1', u'1', u'1', u'0', u'0', u'0', u'0', u'0', u'0', u'0', u'0', u'0', u'0', u'0', u'0', u'0']\n"
     ]
    }
   ],
   "source": [
    "movie_cero = movie.filter(lambda m: m[2]!='')\n",
    "print movie_cero.count()\n",
    "print movie_cero.first()"
   ]
  },
  {
   "cell_type": "code",
   "execution_count": 5,
   "metadata": {},
   "outputs": [
    {
     "name": "stdout",
     "output_type": "stream",
     "text": [
      "\n",
      "* Movies by year:  [(1922, 1), (1926, 1), (1930, 1), (1931, 1), (1932, 1), (1933, 2), (1934, 4), (1935, 4), (1936, 2), (1937, 4), (1938, 3), (1939, 7), (1940, 8), (1941, 5), (1942, 2), (1943, 4), (1944, 5), (1945, 4), (1946, 5), (1947, 5), (1948, 3), (1949, 4), (1950, 7), (1951, 5), (1952, 3), (1953, 2), (1954, 7), (1955, 5), (1956, 4), (1957, 8), (1958, 9), (1959, 4), (1960, 5), (1961, 3), (1962, 5), (1963, 6), (1964, 2), (1965, 5), (1966, 2), (1967, 5), (1968, 6), (1969, 4), (1970, 3), (1971, 7), (1972, 3), (1973, 4), (1974, 8), (1975, 6), (1976, 5), (1977, 4), (1978, 4), (1979, 9), (1980, 8), (1981, 12), (1982, 13), (1983, 5), (1984, 8), (1985, 7), (1986, 15), (1987, 13), (1988, 11), (1989, 15), (1990, 24), (1991, 22), (1992, 37), (1993, 126), (1994, 214), (1995, 219), (1996, 355), (1997, 286), (1998, 65)]\n",
      "\n",
      "* Movies year 1994:  214\n",
      "\n",
      "* Maximum movies/year:  (355, 1996)\n",
      "\n",
      "* Maximum movies/year:  (1, 1922)\n",
      "\n",
      "* Average movies/year:  23.676056338\n",
      "\n",
      "* Standard desviation movies/year:  63.553409865830886\n"
     ]
    }
   ],
   "source": [
    "movie_year = movie.filter(lambda m: m[2]!='')\\\n",
    "            .map(lambda m: (convert_year(m[2]), 1))\n",
    "movie_year_reduced = movie_year.reduceByKey(add)\\\n",
    "            .sortByKey()\n",
    "print \"\"\n",
    "print \"* Movies by year: \", movie_year_reduced.collect()\n",
    "\n",
    "movies_1994 = movie_year_reduced.filter(lambda m: m[0]==1994)\n",
    "print \"\"\n",
    "print \"* Movies year 1994: \", movies_1994.first()[1]\n",
    "\n",
    "movie_inverse = movie_year_reduced.map(lambda (y, n): (n, y))\n",
    "movie_count = movie_year_reduced.map(lambda m: m[1])\n",
    "            \n",
    "print \"\"\n",
    "print \"* Maximum movies/year: \", movie_inverse.max()\n",
    "print \"\"\n",
    "print \"* Maximum movies/year: \", movie_inverse.min()\n",
    "print \"\"\n",
    "print \"* Average movies/year: \", movie_count.mean()\n",
    "print \"\"\n",
    "print \"* Standard desviation movies/year: \", movie_count.stdev()\n"
   ]
  },
  {
   "cell_type": "code",
   "execution_count": 6,
   "metadata": {},
   "outputs": [
    {
     "name": "stdout",
     "output_type": "stream",
     "text": [
      "\n",
      "* Num. partitions:  1\n",
      "\n",
      "* New num. partitions:  10\n"
     ]
    }
   ],
   "source": [
    "print \"\"\n",
    "print \"* Num. partitions: \", movie.getNumPartitions()\n",
    "movie2 = movie.repartition(10)\n",
    "print \"\"\n",
    "print \"* New num. partitions: \", movie2.getNumPartitions()"
   ]
  },
  {
   "cell_type": "code",
   "execution_count": 14,
   "metadata": {},
   "outputs": [
    {
     "data": {
      "image/png": "[encoded data removed]",
      "text/plain": [
       "<matplotlib.figure.Figure at 0x7f7b39ab88d0>"
      ]
     },
     "metadata": {},
     "output_type": "display_data"
    }
   ],
   "source": [
    "import matplotlib.pyplot as plt\n",
    "\n",
    "movie_years = movie_year.map(lambda m: m[0])\n",
    "\n",
    "plt.hist(movie_years.collect(), bins=70, color='lightblue', normed=True, rwidth=0.9)\n",
    "fig = plt.gcf()\n",
    "fig.set_size_inches(24, 10)\n"
   ]
  },
  {
   "cell_type": "code",
   "execution_count": null,
   "metadata": {},
   "outputs": [],
   "source": []
  }
 ],
 "metadata": {
  "kernelspec": {
   "display_name": "Python 2",
   "language": "python",
   "name": "python2"
  },
  "language_info": {
   "codemirror_mode": {
    "name": "ipython",
    "version": 2
   },
   "file_extension": ".py",
   "mimetype": "text/x-python",
   "name": "python",
   "nbconvert_exporter": "python",
   "pygments_lexer": "ipython2",
   "version": "2.7.14"
  }
 },
 "nbformat": 4,
 "nbformat_minor": 2
}
