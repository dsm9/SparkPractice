{
 "cells": [
  {
   "cell_type": "markdown",
   "metadata": {},
   "source": [
    "# Massive Data Processing \n",
    "## Spark Practice\n",
    "Studend: David Sánchez Marín\n",
    "### 3.- Pair RDDs"
   ]
  },
  {
   "cell_type": "code",
   "execution_count": 2,
   "metadata": {},
   "outputs": [],
   "source": [
    "import pyspark\n",
    "sc = pyspark.SparkContext('local[*]')"
   ]
  },
  {
   "cell_type": "code",
   "execution_count": 9,
   "metadata": {},
   "outputs": [
    {
     "name": "stdout",
     "output_type": "stream",
     "text": [
      "1. Read ratings data\n",
      "\n",
      "* Num. users/items:  100000\n",
      "\n",
      "* User ratings:  [u'196', u'242', u'3', u'881250949']\n",
      "\n",
      "* Numerical user rating:  (196, 3.0, 242)\n",
      "\n",
      "Users conversion:  [{'item_id': 242, 'rating': 3.0, 'user_id': 196, 'timestamp': u'881250949'}, {'item_id': 302, 'rating': 3.0, 'user_id': 186, 'timestamp': u'891717742'}, {'item_id': 377, 'rating': 1.0, 'user_id': 22, 'timestamp': u'878887116'}]\n"
     ]
    }
   ],
   "source": [
    "# 1. Read the rating data\n",
    "import os, shutil\n",
    "import unicodedata\n",
    "from operator import add\n",
    "\n",
    "input = sc.textFile(\"../Datasets/ml-100k/u.data\")\n",
    "users_ori = input.map(lambda l: l.split(\"\\t\") )\n",
    "print \"1. Read ratings data\"\n",
    "print \"\"\n",
    "print \"* Num. users/items: \", users_ori.count()\n",
    "print \"\"\n",
    "print \"* User ratings: \", users_ori.first()\n",
    "users = users_ori.map(lambda u: (int(u[0]), float(u[2]), int(u[1])))\n",
    "print \"\"\n",
    "print \"* Numerical user rating: \", users.first()\n",
    "users_dic = users_ori.map(lambda u: {\"user_id\": int(u[0]), \"item_id\":int(u[1]), \"rating\":float(u[2]), \"timestamp\":u[3]})\n",
    "print \"\"\n",
    "print \"Users conversion: \", users_dic.take(3)"
   ]
  },
  {
   "cell_type": "code",
   "execution_count": 49,
   "metadata": {},
   "outputs": [
    {
     "name": "stdout",
     "output_type": "stream",
     "text": [
      "2. Pair RDD: \n",
      "[(196, (3.0, 242)), (186, (3.0, 302)), (22, (1.0, 377)), (244, (2.0, 51)), (166, (1.0, 346))]\n"
     ]
    }
   ],
   "source": [
    "user_ratings = users.map(lambda u: (u[0], (u[1],u[2])))\n",
    "print \"2. Pair RDD: \"\n",
    "print user_ratings.take(5)"
   ]
  },
  {
   "cell_type": "code",
   "execution_count": 46,
   "metadata": {},
   "outputs": [
    {
     "name": "stdout",
     "output_type": "stream",
     "text": [
      "3. Agregate user ratings\n",
      "[(1, (982.0, 272)), (2, (230.0, 62)), (3, (151.0, 54)), (4, (104.0, 24)), (5, (503.0, 175))]\n"
     ]
    }
   ],
   "source": [
    "print \"3. Agregate user ratings\"\n",
    "    \n",
    "user_agg = user_ratings.aggregateByKey((0,0,0),\\\n",
    "        (lambda x, y: (x[0]+y[0],x[1]+1)),\\\n",
    "        (lambda rdd1, rdd2: (rdd1[0]+rdd2[0],rdd1[1]+rdd2[1])))\n",
    "print user_agg.take(5)"
   ]
  },
  {
   "cell_type": "code",
   "execution_count": 58,
   "metadata": {},
   "outputs": [
    {
     "name": "stdout",
     "output_type": "stream",
     "text": [
      "4. User average ratings: \n",
      "[(1, 3.610294117647059), (2, 3.7096774193548385), (3, 2.7962962962962963), (4, 4.333333333333333)]\n"
     ]
    }
   ],
   "source": [
    "print \"4. User average ratings: \"\n",
    "\n",
    "user_avg = user_agg.map(lambda (x, y): (x, y[0] / y[1]))\n",
    "print user_avg.take(4)"
   ]
  },
  {
   "cell_type": "code",
   "execution_count": 64,
   "metadata": {},
   "outputs": [
    {
     "name": "stdout",
     "output_type": "stream",
     "text": [
      "5. Movies number of ratings\n",
      "[(1, 455.0), (2, 133.0), (3, 91.0), (4, 213.0), (5, 88.0)]\n"
     ]
    }
   ],
   "source": [
    "print \"5. Movie number of ratings\"\n",
    "movies = users.map(lambda x: (x[2], x[1]))\n",
    "movies_rating = movies.reduceByKey(lambda x, y: x + 1)\n",
    "print movies_rating.take(5)"
   ]
  },
  {
   "cell_type": "code",
   "execution_count": 72,
   "metadata": {},
   "outputs": [
    {
     "name": "stdout",
     "output_type": "stream",
     "text": [
      " 6. High Rating Movies\n",
      "High rating movies:  2556\n",
      "Movies high rateg:  [(474, 4.0), (465, 5.0), (1014, 5.0), (222, 5.0), (387, 5.0)]\n",
      "Movies num high ratings:  [(1, 321), (2, 51), (3, 34), (4, 122), (5, 39)]\n"
     ]
    }
   ],
   "source": [
    "print \"6. High Rating Movies\"\n",
    "movies_up_mean = movies.filter(lambda x: x[1]>3)\n",
    "print \"High rating movies: \", movies_up_mean.distinct().count()\n",
    "print \"Movies high rateg: \", movies_up_mean.take(5)\n",
    "movies_up_count = movies_up_mean.map(lambda x: (x[0], 1))\\\n",
    "                .reduceByKey(lambda x, y: x+y)\n",
    "print \"Movies num high ratings: \", movies_up_count.take(5)"
   ]
  },
  {
   "cell_type": "code",
   "execution_count": null,
   "metadata": {},
   "outputs": [],
   "source": []
  }
 ],
 "metadata": {
  "kernelspec": {
   "display_name": "Python 2",
   "language": "python",
   "name": "python2"
  },
  "language_info": {
   "codemirror_mode": {
    "name": "ipython",
    "version": 2
   },
   "file_extension": ".py",
   "mimetype": "text/x-python",
   "name": "python",
   "nbconvert_exporter": "python",
   "pygments_lexer": "ipython2",
   "version": "2.7.14"
  }
 },
 "nbformat": 4,
 "nbformat_minor": 2
}
