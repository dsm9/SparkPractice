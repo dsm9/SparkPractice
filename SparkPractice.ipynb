{
 "cells": [
  {
   "cell_type": "markdown",
   "metadata": {},
   "source": [
    "# Massive Data Processing\n",
    "\n",
    "\n",
    "\n",
    "\n",
    "\n",
    "\n",
    "\n",
    "## Spark practice\n",
    "\n",
    "<b>Student: David Sánchez</b>"
   ]
  },
  {
   "cell_type": "code",
   "execution_count": 1,
   "metadata": {},
   "outputs": [],
   "source": [
    "import pyspark\n",
    "sc = pyspark.SparkContext('local[*]')"
   ]
  },
  {
   "cell_type": "markdown",
   "metadata": {},
   "source": [
    "### 1.-Practice: Trending Topics & analysis sentiment (5.0%)\n"
   ]
  },
  {
   "cell_type": "markdown",
   "metadata": {},
   "source": [
    "#### Trending Topics"
   ]
  },
  {
   "cell_type": "code",
   "execution_count": 2,
   "metadata": {},
   "outputs": [
    {
     "name": "stdout",
     "output_type": "stream",
     "text": [
      "Total tweets:  19166\n",
      "Spanish tweets:  15028\n",
      "Tweets with hashtags:  3495\n",
      "Hashtags:  5286\n",
      "Hashtags reduced:  2947\n",
      "[('VineDeLaAbuela', 1), ('', 1), ('PaisajeCulturalCafetero', 1), ('RMUCL', 11), ('PorSiNoLoViste', 2), ('industria40', 1), ('Mazatepec', 1), ('wallapop', 1), ('29A', 1), ('SomosServidoresPublicos', 2)]\n"
     ]
    }
   ],
   "source": [
    "import os, shutil\n",
    "import json\n",
    "import unicodedata\n",
    "from operator import add\n",
    "\n",
    "if os.path.exists(\"Results/Tweets_ES.json\"): \n",
    "    shutil.rmtree(\"Results/Tweets_ES.json\")\n",
    "\n",
    "input = sc.textFile(\"Datasets/Tweets/tweets_es.json\")\n",
    "tweets = input.map(lambda x: json.loads(x))\n",
    "print \"Total tweets: \", tweets.count()\n",
    "\n",
    "tweets_es = tweets.filter(lambda t: \"es\" in t[\"lang\"])\n",
    "print \"Spanish tweets: \", tweets_es.count()\n",
    "\n",
    "tweets_es_hashtags = tweets_es.filter(lambda t: t[\"entities\"][\"hashtags\"] != [] )\n",
    "print  \"Tweets with hashtags: \", tweets_es_hashtags.count()\n",
    "\n",
    "hashtags = tweets_es_hashtags.flatMap(lambda t: map(lambda h: (unicodedata.normalize('NFKD', h[\"text\"]).encode('ascii','ignore'),1), t[\"entities\"][\"hashtags\"]))\n",
    "print \"Hashtags: \", hashtags.count()\n",
    "\n",
    "trending_hashtags = hashtags.reduceByKey(lambda a, b: a + b)\n",
    "print \"Hashtags reduced: \", trending_hashtags.count()\n",
    "\n",
    "if os.path.exists(\"results/trending\"): \n",
    "    shutil.rmtree(\"results/trending\")\n",
    "trending_hashtags.saveAsTextFile('results/trending')\n",
    "print \"Files saved: 'results/trending'\"\n",
    "print trending_hashtags.take(10)\n"
   ]
  },
  {
   "cell_type": "markdown",
   "metadata": {},
   "source": [
    "#### Top N"
   ]
  },
  {
   "cell_type": "code",
   "execution_count": 7,
   "metadata": {},
   "outputs": [
    {
     "name": "stdout",
     "output_type": "stream",
     "text": [
      "[('MTVMiaw', 196), ('Vota2ParaQueSigaPresidente', 117), ('FelizMartes', 84), ('TuitUtil', 65), ('LibertadDePrensa', 64), ('TeCaesTeLevantasFelices27Mica', 51), ('MTVSnapMexDanna', 39), ('MTVPopMBautista', 37), ('MtvIconoMBautista', 34), ('DebateReal', 34)]\n",
      "Files saved: 'results/topn'\n"
     ]
    }
   ],
   "source": [
    "trending_sorted = trending_hashtags.takeOrdered(10, key=lambda t: -t[1])\n",
    "print trending_sorted\n",
    "\n",
    "if os.path.exists(\"results/topn\"): \n",
    "    shutil.rmtree(\"results/topn\")\n",
    "sc.parallelize(trending_sorted).saveAsTextFile('results/topn')\n",
    "print \"Files saved: 'results/topn'\""
   ]
  },
  {
   "cell_type": "markdown",
   "metadata": {},
   "source": [
    "#### Sentiment"
   ]
  },
  {
   "cell_type": "code",
   "execution_count": 142,
   "metadata": {},
   "outputs": [
    {
     "name": "stdout",
     "output_type": "stream",
     "text": [
      "[(u'@DisneySpain @TiniStoessel LIBERA LOGOOO \\n#TINI', 727497968731959296, [{u'indices': [42, 47], u'text': u'TINI'}])]\n"
     ]
    }
   ],
   "source": [
    "tweets_temp = tweets_es_hashtags.map(lambda t: (t[\"text\"],t[\"id\"],t[\"entities\"][\"hashtags\"]))\n",
    "print tweets_temp.take(1)"
   ]
  },
  {
   "cell_type": "code",
   "execution_count": 21,
   "metadata": {},
   "outputs": [
    {
     "name": "stdout",
     "output_type": "stream",
     "text": [
      "['@disneyspain @tinistoessel libera logooo \\n#tini', 'rt @amctv_es: el grupo esta separado... conseguiran escapar? llegaran a baja? el proximo lunes nuevo episodio! #feartwd\\nhttps://t.co/vqw...']\n"
     ]
    }
   ],
   "source": [
    "# Only tweets text\n",
    "tweets_text = tweets_es_hashtags.map(lambda t: unicodedata.normalize('NFKD',t[\"text\"]).encode('ascii','ignore').lower())\n",
    "print tweets_text.take(2)"
   ]
  },
  {
   "cell_type": "code",
   "execution_count": 25,
   "metadata": {},
   "outputs": [
    {
     "name": "stdout",
     "output_type": "stream",
     "text": [
      "[('@disneyspain @tinistoessel libera logooo \\n#tini', 5), ('rt @amctv_es: el grupo esta separado... conseguiran escapar? llegaran a baja? el proximo lunes nuevo episodio! #feartwd\\nhttps://t.co/vqw...', 17)]\n"
     ]
    }
   ],
   "source": [
    "# Number of words\n",
    "tweets_words_count = tweets_es_hashtags.map(lambda t: (t[\"text\"], t[\"text\"].split(\" \"))).mapValues(lambda x: len(x))\n",
    "print tweets_words.take(2)"
   ]
  },
  {
   "cell_type": "code",
   "execution_count": 26,
   "metadata": {},
   "outputs": [
    {
     "name": "stdout",
     "output_type": "stream",
     "text": [
      "[('@disneyspain @tinistoessel libera logooo \\n#tini', 5), ('rt @amctv_es: el grupo esta separado... conseguiran escapar? llegaran a baja? el proximo lunes nuevo episodio! #feartwd\\nhttps://t.co/vqw...', 17)]\n"
     ]
    }
   ],
   "source": [
    "tweets_words_count2 = tweets_text.map(lambda t: (t, t.split(\" \"))).mapValues(lambda x: len(x))\n",
    "print tweets_words.take(2)"
   ]
  },
  {
   "cell_type": "code",
   "execution_count": 107,
   "metadata": {},
   "outputs": [
    {
     "name": "stdout",
     "output_type": "stream",
     "text": [
      "[(u'@DisneySpain @TiniStoessel LIBERA LOGOOO \\n#TINI', u'TINI'), (u'RT @amctv_es: El grupo est\\xe1 separado... \\xbfconseguir\\xe1n escapar? \\xbfllegar\\xe1n a Baja? \\xa1El pr\\xf3ximo lunes nuevo episodio! #FearTWD\\nhttps://t.co/vQW\\u2026', u'FearTWD')]\n"
     ]
    }
   ],
   "source": [
    "# Hashtags\n",
    "tweets_hashtag = tweets_es_hashtags.map(lambda t: (t[\"text\"], map(lambda h: h[\"text\"], t[\"entities\"][\"hashtags\"])))\\\n",
    "                    .flatMapValues(lambda x: x)\n",
    "print tweets_hashtag.take(2)"
   ]
  },
  {
   "cell_type": "code",
   "execution_count": null,
   "metadata": {},
   "outputs": [],
   "source": [
    "# Positive words"
   ]
  },
  {
   "cell_type": "code",
   "execution_count": 90,
   "metadata": {},
   "outputs": [
    {
     "name": "stdout",
     "output_type": "stream",
     "text": [
      "Positive:  ['libera', 'como', 'gran', 'mayor', 'nuevo', 'general', 'obra', 'principal', 'bien', 'poco'] ...\n",
      "Negative:  ['divisas', 'en', 'para', 'sin', 'tiempo', 'bajo', 'varios', 'tipo', 'largo', 'solo'] ...\n"
     ]
    }
   ],
   "source": [
    "file_positive = sc.textFile(\"Dictionary/positive_words_es.txt\")\n",
    "file_negative = sc.textFile(\"Dictionary/negative_words_es.txt\")\n",
    "positive_words = file_positive.map(lambda w: w.encode('ascii', 'ignore'))\n",
    "negative_words = file_negative.map(lambda w: w.encode('ascii', 'ignore'))\n",
    "positive_words_list = positive_words.collect()\n",
    "negative_words_list = negative_words.collect()\n",
    "\n",
    "print \"Positive: \", positive_words.take(10), \"...\"\n",
    "print \"Negative: \", negative_words.take(10), \"...\""
   ]
  },
  {
   "cell_type": "code",
   "execution_count": 85,
   "metadata": {},
   "outputs": [
    {
     "name": "stdout",
     "output_type": "stream",
     "text": [
      "[('@disneyspain @tinistoessel libera logooo \\n#tini', '@disneyspain'), ('@disneyspain @tinistoessel libera logooo \\n#tini', '@tinistoessel'), ('@disneyspain @tinistoessel libera logooo \\n#tini', 'libera'), ('@disneyspain @tinistoessel libera logooo \\n#tini', 'logooo'), ('@disneyspain @tinistoessel libera logooo \\n#tini', '\\n#tini'), ('rt @amctv_es: el grupo esta separado... conseguiran escapar? llegaran a baja? el proximo lunes nuevo episodio! #feartwd\\nhttps://t.co/vqw...', 'rt')]\n"
     ]
    }
   ],
   "source": [
    "tweets_words = tweets_text.map(lambda t: (t, t.split(\" \"))).flatMapValues(lambda x: x)\n",
    "print tweets_words.take(6)"
   ]
  },
  {
   "cell_type": "code",
   "execution_count": 86,
   "metadata": {},
   "outputs": [
    {
     "name": "stdout",
     "output_type": "stream",
     "text": [
      "[('@disneyspain @tinistoessel libera logooo \\n#tini', 0), ('@disneyspain @tinistoessel libera logooo \\n#tini', 0), ('@disneyspain @tinistoessel libera logooo \\n#tini', 1), ('@disneyspain @tinistoessel libera logooo \\n#tini', 0), ('@disneyspain @tinistoessel libera logooo \\n#tini', 0), ('rt @amctv_es: el grupo esta separado... conseguiran escapar? llegaran a baja? el proximo lunes nuevo episodio! #feartwd\\nhttps://t.co/vqw...', 0)]\n"
     ]
    }
   ],
   "source": [
    "tweets_positive = tweets_words.map(lambda t: (t[0], 1 if t[1] in positive_words_list else 0))\n",
    "print tweets_positive.take(6)"
   ]
  },
  {
   "cell_type": "code",
   "execution_count": 87,
   "metadata": {},
   "outputs": [
    {
     "name": "stdout",
     "output_type": "stream",
     "text": [
      "[('hasta nunca #adiosradiomarcaholaverdad', 0), ('rt @fornerinojl: el estado venezolano le asigna a empresas polar las divisas y lorenzo #mendozasabotealapatria .@nicolasmaduro https://t.co...', 0), ('sigue las redes sociales de #micausamimega y preparate porque pronto te sorprenderas https://t.co/1hemf4ujwj', 1), ('rt @fnaraujor: asi recibe cartagena hoy a santos con pancartas y rechiflas #santoscolombianotequiere https://t.co/il9vcb8ffo', 0), ('@yaparate40  #buenmartes nos encantaria escuchar a @pabloalboran #pasosdecero esperando junio! @legalborannormx https://t.co/1xyzhdznyu', 0)]\n"
     ]
    }
   ],
   "source": [
    "tweets_positive_count = tweets_positive.reduceByKey(add)\n",
    "print tweets_positive_count.take(5)"
   ]
  },
  {
   "cell_type": "code",
   "execution_count": 91,
   "metadata": {},
   "outputs": [
    {
     "name": "stdout",
     "output_type": "stream",
     "text": [
      "[('hasta nunca #adiosradiomarcaholaverdad', 0), ('rt @fornerinojl: el estado venezolano le asigna a empresas polar las divisas y lorenzo #mendozasabotealapatria .@nicolasmaduro https://t.co...', 1), ('sigue las redes sociales de #micausamimega y preparate porque pronto te sorprenderas https://t.co/1hemf4ujwj', 0), ('rt @fnaraujor: asi recibe cartagena hoy a santos con pancartas y rechiflas #santoscolombianotequiere https://t.co/il9vcb8ffo', 0), ('@yaparate40  #buenmartes nos encantaria escuchar a @pabloalboran #pasosdecero esperando junio! @legalborannormx https://t.co/1xyzhdznyu', 0)]\n"
     ]
    }
   ],
   "source": [
    "tweets_negative = tweets_words.map(lambda t: (t[0], 1 if t[1] in negative_words_list else 0))\n",
    "tweets_negative_count = tweets_negative.reduceByKey(add)\n",
    "print tweets_negative_count.take(5)"
   ]
  },
  {
   "cell_type": "code",
   "execution_count": null,
   "metadata": {},
   "outputs": [],
   "source": [
    "# Union"
   ]
  },
  {
   "cell_type": "code",
   "execution_count": 79,
   "metadata": {},
   "outputs": [
    {
     "name": "stdout",
     "output_type": "stream",
     "text": [
      "[('@disneyspain @tinistoessel libera logooo \\n#tini', 'tini'), ('rt @amctv_es: el grupo esta separado... conseguiran escapar? llegaran a baja? el proximo lunes nuevo episodio! #feartwd\\nhttps://t.co/vqw...', 'feartwd')]\n"
     ]
    }
   ],
   "source": [
    "tweets_hashtag = tweets_es_hashtags.map(lambda t: (unicodedata.normalize('NFKD',t[\"text\"]).encode('ascii','ignore').lower(), \\\n",
    "                map(lambda h: unicodedata.normalize('NFKD',h[\"text\"]).encode('ascii','ignore').lower(), t[\"entities\"][\"hashtags\"])))\\\n",
    "                .flatMapValues(lambda x: x)\n",
    "print tweets_hashtag.take(2)"
   ]
  },
  {
   "cell_type": "code",
   "execution_count": null,
   "metadata": {},
   "outputs": [],
   "source": [
    "\n",
    "\n"
   ]
  },
  {
   "cell_type": "code",
   "execution_count": null,
   "metadata": {},
   "outputs": [],
   "source": []
  },
  {
   "cell_type": "code",
   "execution_count": null,
   "metadata": {},
   "outputs": [],
   "source": []
  },
  {
   "cell_type": "code",
   "execution_count": null,
   "metadata": {},
   "outputs": [],
   "source": []
  }
 ],
 "metadata": {
  "kernelspec": {
   "display_name": "Python 2",
   "language": "python",
   "name": "python2"
  },
  "language_info": {
   "codemirror_mode": {
    "name": "ipython",
    "version": 2
   },
   "file_extension": ".py",
   "mimetype": "text/x-python",
   "name": "python",
   "nbconvert_exporter": "python",
   "pygments_lexer": "ipython2",
   "version": "2.7.14"
  }
 },
 "nbformat": 4,
 "nbformat_minor": 2
}
